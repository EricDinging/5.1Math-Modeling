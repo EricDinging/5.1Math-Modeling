{
 "cells": [
  {
   "cell_type": "code",
   "execution_count": 1,
   "metadata": {},
   "outputs": [],
   "source": [
    "import numpy as np\n",
    "import matplotlib.pyplot as plt\n",
    "import matplotlib as mpl"
   ]
  },
  {
   "cell_type": "code",
   "execution_count": 2,
   "metadata": {},
   "outputs": [],
   "source": [
    "def exponential_smoothing_1(alpha, data):\n",
    "    '''\n",
    "    一次指数平滑\n",
    "    :param alpha:  平滑系数\n",
    "    :param data:   数据序列：list\n",
    "    :return:       返回一次指数平滑值：list\n",
    "    '''\n",
    "    s_single=[]\n",
    "    s_single.append(data[0])\n",
    "    for i in range(1, len(data)):\n",
    "        s_single.append(alpha * data[i] + (1 - alpha) * s_single[i-1])\n",
    "    return s_single"
   ]
  },
  {
   "cell_type": "code",
   "execution_count": 3,
   "metadata": {},
   "outputs": [],
   "source": [
    "def exponential_smoothing_2(alpha, data):\n",
    "    '''\n",
    "    二次指数平滑\n",
    "    :param alpha:  平滑系数\n",
    "    :param data:   数据序列：list\n",
    "    :return:       返回二次指数平滑值,参数a, b：list\n",
    "    '''\n",
    "    s_single = exponential_smoothing_1(alpha, data)\n",
    "    s_double = exponential_smoothing_1(alpha, s_single)\n",
    "    a_double = [0 for i in range(len(data))]\n",
    "    b_double = [0 for i in range(len(data))]\n",
    "    F_double = [0 for i in range(len(data))]\n",
    "    for i in range(len(data)):\n",
    "        a = 2 * s_single[i] - s_double[i]\n",
    "        b = (alpha / (1 - alpha)) * (s_single[i] - s_double[i])\n",
    "        F = a + b\n",
    "        a_double[i] = a\n",
    "        b_double[i] = b\n",
    "        F_double[i] = F\n",
    "    return a_double,b_double,F_double"
   ]
  },
  {
   "cell_type": "code",
   "execution_count": 4,
   "metadata": {},
   "outputs": [],
   "source": [
    "def exponential_smoothing_3(alpha, data):\n",
    "    '''\n",
    "    三次指数平滑\n",
    "    :param alpha:  平滑系数\n",
    "    :param data:   数据序列：list\n",
    "    :return:       返回二次指数平滑值，参数a, b, c，预测值Ft+1：list\n",
    "    '''\n",
    "    s_single = exponential_smoothing_1(alpha, data)\n",
    "    s_double = exponential_smoothing_1(alpha, s_single)\n",
    "    s_triple = exponential_smoothing_1(alpha, s_double)\n",
    "    \n",
    "    a_triple = [0 for i in range(len(data))]\n",
    "    b_triple = [0 for i in range(len(data))]\n",
    "    c_triple = [0 for i in range(len(data))]\n",
    "    F_triple = [0 for i in range(len(data))]\n",
    "    for i in range(len(data)):\n",
    "        a = 3 * s_single[i] - 3 * s_double[i] + s_triple[i]\n",
    "        b = (alpha / (2 * ((1 - alpha) ** 2))) * ((6 - 5 * alpha) * s_single[i] - 2 * ((5 - 4 * alpha) * s_double[i]) + (4 - 3 * alpha) * s_triple[i])\n",
    "        c = ((alpha ** 2) / (2 * ((1 - alpha) ** 2))) * (s_single[i] - 2 * s_double[i] + s_triple[i])\n",
    "        F = a + b + c\n",
    "        a_triple[i] = a\n",
    "        b_triple[i] = b\n",
    "        c_triple[i] = c\n",
    "        F_triple[i] = F\n",
    "    return a_triple, b_triple, c_triple, F_triple"
   ]
  },
  {
   "cell_type": "code",
   "execution_count": 5,
   "metadata": {},
   "outputs": [],
   "source": [
    "def model_error_analysis(F, data):\n",
    "    '''\n",
    "    误差分析\n",
    "    :param F:     预测数列：list\n",
    "    :param data:  原始序列：list\n",
    "    :return:      返回各期绝对误差，相对误差：list，返回平均绝对误差和平均相对误差\n",
    "    '''\n",
    "    AE = [0 for i in range(len(data)-1)]\n",
    "    RE = []\n",
    "    AE_num = 0\n",
    "    RE_num = 0\n",
    "    for i in range(1,len(data)):\n",
    "        _AE = abs(F[i-1] - data[i])\n",
    "        _RE = _AE / data[i]\n",
    "        AE_num += _AE\n",
    "        RE_num += _RE\n",
    "        AE[i-1] = _AE\n",
    "        RE.append('{:.2f}%'.format(_RE*100))\n",
    "    MAE = AE_num / (len(data)-1)\n",
    "    MRE = '{:.2f}%'.format(RE_num *100 / (len(data)-1))\n",
    "    return AE, MAE, RE, MRE"
   ]
  },
  {
   "cell_type": "code",
   "execution_count": 6,
   "metadata": {},
   "outputs": [],
   "source": [
    "def alpha_analysis(data,itype=2):\n",
    "    '''\n",
    "    判断误差最小的平滑系数\n",
    "    :param data:   原始序列：list\n",
    "    :param itype:  平滑类型：1,2,3\n",
    "    :return:       返回平均绝对误差最小的平滑系数和最小平均绝对误差\n",
    "    '''\n",
    "    alpha_all = [0.01 * i for i in range(1,100)]  #只需要0.1-0.9修改为alpha_triple = [0.1 * i for i in range(1,10)]\n",
    "    best_alpha = 0\n",
    "    min_MAE = float('Inf') #  无穷大\n",
    "    if itype == 2:\n",
    "        for i in range(len(alpha_all)):\n",
    "            alpha = alpha_all[i]\n",
    "            a_double,b_double,F_double = exponential_smoothing_2(alpha, data)\n",
    "            AE_double, MAE_double, RE_double, MRE_double = model_error_analysis(F_double, data)\n",
    "            if MAE_double <= min_MAE:\n",
    "                min_MAE = MAE_double\n",
    "                best_alpha = alpha\n",
    "            else:\n",
    "                pass\n",
    "    elif itype == 3:\n",
    "        for i in range(len(alpha_all)):\n",
    "            alpha = alpha_all[i]\n",
    "            a_triple, b_triple, c_triple, F_triple = exponential_smoothing_3(alpha, data)\n",
    "            AE_triple, MAE_triple, RE_triple, MRE_triple = model_error_analysis(F_triple, data)\n",
    "            if MAE_triple <= min_MAE:\n",
    "                min_MAE = MAE_triple\n",
    "                best_alpha = alpha\n",
    "            else:\n",
    "                pass\n",
    "    else:\n",
    "        for i in range(len(alpha_all)):\n",
    "            alpha = alpha_all[i]\n",
    "            F_single = exponential_smoothing_1(alpha, data)\n",
    "            AE_single, MAE_single, RE_single, MRE_single = model_error_analysis(F_single, data)\n",
    "            if MAE_single <= min_MAE:\n",
    "                min_MAE = MAE_single\n",
    "                best_alpha = alpha\n",
    "            else:\n",
    "                pass\n",
    "    \n",
    "    return best_alpha, min_MAE"
   ]
  },
  {
   "cell_type": "code",
   "execution_count": 7,
   "metadata": {},
   "outputs": [],
   "source": [
    "def scatter_diagram(F, data, t):\n",
    "    '''\n",
    "    绘制散点图\n",
    "    :param F:     预测序列：list\n",
    "    :param data:  原始类型：list\n",
    "    :param t:     时间类型：list\n",
    "    '''\n",
    "    F = F[:-1:]\n",
    "    data = data[1::]\n",
    "    t = t[1::]\n",
    "    plt.title(\"Scatter Plot\")  #图表名称\n",
    "    plt.xlabel(\"Year\")  #改x坐标轴标题\n",
    "    plt.ylabel(\"Quantities\")  #改y坐标轴标题\n",
    "    plt.scatter(t, data, label='Actual',s=10)\n",
    "    plt.scatter(t, F, marker = 'x', label='Predict',s=10)\n",
    "    plt.legend()\n",
    "    plt.savefig('Scatter.png', bbox_inches='tight',dpi = 300)\n",
    "    plt.show()"
   ]
  },
  {
   "cell_type": "code",
   "execution_count": 8,
   "metadata": {},
   "outputs": [],
   "source": [
    "def line_chart(F, data, t):\n",
    "    '''\n",
    "    绘制折现图\n",
    "    :param F:     预测序列：list\n",
    "    :param data:  原始类型：list\n",
    "    :param t:     时间类型：list\n",
    "    '''\n",
    "    F = F[:-1:]\n",
    "    data = data[1::]\n",
    "    t = t[1::]\n",
    "    plt.title(\"Line Plot\")\n",
    "    plt.xlabel(\"Year\")\n",
    "    plt.ylabel(\"Quantities\")\n",
    "    plt.plot(t, data, label='Actual')\n",
    "    plt.plot(t, F, label='Predict')\n",
    "    plt.legend()\n",
    "    plt.savefig('Line.png', bbox_inches='tight',dpi = 300)\n",
    "    plt.show()"
   ]
  },
  {
   "cell_type": "markdown",
   "metadata": {},
   "source": [
    "## 使用方法\n",
    "\n",
    "定义数据和时间"
   ]
  },
  {
   "cell_type": "code",
   "execution_count": 9,
   "metadata": {},
   "outputs": [],
   "source": [
    "t = [1,2,3,4,5,6,7,8,9,10,11,12,13,14,15]\n",
    "data = [10,15,8,20,10,16,18,20,22,24,20,26,27,29,29]"
   ]
  },
  {
   "cell_type": "markdown",
   "metadata": {},
   "source": [
    "是否寻找平均绝对误差最小的平滑系数<br>itype取值为1,2,3，分别代表一次、二次、三次指数平滑<br>返回最优的平滑系数以及最小平均绝对误差"
   ]
  },
  {
   "cell_type": "code",
   "execution_count": 10,
   "metadata": {},
   "outputs": [
    {
     "data": {
      "text/plain": [
       "(0.6900000000000001, 4.1322687927027735)"
      ]
     },
     "execution_count": 10,
     "metadata": {},
     "output_type": "execute_result"
    }
   ],
   "source": [
    "alpha_analysis(data,itype=1)"
   ]
  },
  {
   "cell_type": "markdown",
   "metadata": {},
   "source": [
    "定义平滑系数，分别进行一次，二次，三次指数平滑<br>分别返回：<br>一次指数平滑值<br>二次指数平滑参数a,b及预测值F<br>三次指数平滑参数a,b,c及预测值F"
   ]
  },
  {
   "cell_type": "code",
   "execution_count": 11,
   "metadata": {},
   "outputs": [
    {
     "data": {
      "text/plain": [
       "[10,\n",
       " 12.5,\n",
       " 10.25,\n",
       " 15.125,\n",
       " 12.5625,\n",
       " 14.28125,\n",
       " 16.140625,\n",
       " 18.0703125,\n",
       " 20.03515625,\n",
       " 22.017578125,\n",
       " 21.0087890625,\n",
       " 23.50439453125,\n",
       " 25.252197265625,\n",
       " 27.1260986328125,\n",
       " 28.06304931640625]"
      ]
     },
     "execution_count": 11,
     "metadata": {},
     "output_type": "execute_result"
    }
   ],
   "source": [
    "alpha = 0.5\n",
    "exponential_smoothing_1(alpha, data)"
   ]
  },
  {
   "cell_type": "markdown",
   "metadata": {},
   "source": [
    "误差分析,返回各期绝对误差、平均绝对误差、相对误差、平均相对误差"
   ]
  },
  {
   "cell_type": "code",
   "execution_count": 12,
   "metadata": {
    "scrolled": true
   },
   "outputs": [
    {
     "data": {
      "text/plain": [
       "([5,\n",
       "  4.5,\n",
       "  9.75,\n",
       "  5.125,\n",
       "  3.4375,\n",
       "  3.71875,\n",
       "  3.859375,\n",
       "  3.9296875,\n",
       "  3.96484375,\n",
       "  2.017578125,\n",
       "  4.9912109375,\n",
       "  3.49560546875,\n",
       "  3.747802734375,\n",
       "  1.8739013671875],\n",
       " 4.243661063058036,\n",
       " ['33.33%',\n",
       "  '56.25%',\n",
       "  '48.75%',\n",
       "  '51.25%',\n",
       "  '21.48%',\n",
       "  '20.66%',\n",
       "  '19.30%',\n",
       "  '17.86%',\n",
       "  '16.52%',\n",
       "  '10.09%',\n",
       "  '19.20%',\n",
       "  '12.95%',\n",
       "  '12.92%',\n",
       "  '6.46%'],\n",
       " '24.79%')"
      ]
     },
     "execution_count": 12,
     "metadata": {},
     "output_type": "execute_result"
    }
   ],
   "source": [
    "F = exponential_smoothing_1(alpha, data)\n",
    "model_error_analysis(F, data)"
   ]
  },
  {
   "cell_type": "markdown",
   "metadata": {},
   "source": [
    "绘图，可输出折线图和散点图"
   ]
  },
  {
   "cell_type": "code",
   "execution_count": 13,
   "metadata": {},
   "outputs": [
    {
     "data": {
      "image/png": "[encoded data removed]",
      "text/plain": [
       "<Figure size 432x288 with 1 Axes>"
      ]
     },
     "metadata": {
      "needs_background": "light"
     },
     "output_type": "display_data"
    }
   ],
   "source": [
    "F = exponential_smoothing_1(alpha, data)\n",
    "line_chart(F, data, t)"
   ]
  },
  {
   "cell_type": "code",
   "execution_count": 14,
   "metadata": {},
   "outputs": [
    {
     "data": {
      "image/png": "[encoded data removed]",
      "text/plain": [
       "<Figure size 432x288 with 1 Axes>"
      ]
     },
     "metadata": {
      "needs_background": "light"
     },
     "output_type": "display_data"
    }
   ],
   "source": [
    "F = exponential_smoothing_1(alpha, data)\n",
    "scatter_diagram(F, data, t)"
   ]
  },
  {
   "cell_type": "code",
   "execution_count": null,
   "metadata": {},
   "outputs": [],
   "source": []
  }
 ],
 "metadata": {
  "kernelspec": {
   "display_name": "Python 3 (ipykernel)",
   "language": "python",
   "name": "python3"
  },
  "language_info": {
   "codemirror_mode": {
    "name": "ipython",
    "version": 3
   },
   "file_extension": ".py",
   "mimetype": "text/x-python",
   "name": "python",
   "nbconvert_exporter": "python",
   "pygments_lexer": "ipython3",
   "version": "3.9.7"
  }
 },
 "nbformat": 4,
 "nbformat_minor": 4
}
