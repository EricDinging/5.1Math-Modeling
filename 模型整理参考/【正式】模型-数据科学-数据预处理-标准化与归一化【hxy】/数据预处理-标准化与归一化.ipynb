{
 "cells": [
  {
   "cell_type": "markdown",
   "id": "f17de6a5",
   "metadata": {},
   "source": [
    "# 标准化\n",
    "我们需要对原始数据进行处理，进行Standardization（或者叫Z-score Normalization）"
   ]
  },
  {
   "cell_type": "markdown",
   "id": "60bbd676",
   "metadata": {},
   "source": [
    "要求：均值$\\mu=0$和标准差$\\sigma=1$"
   ]
  },
  {
   "cell_type": "markdown",
   "id": "0c90197b",
   "metadata": {},
   "source": [
    "转换公式如下：\n",
    "$$\n",
    "z = \\frac{x-\\mu}{\\sigma}\n",
    "$$"
   ]
  },
  {
   "cell_type": "markdown",
   "id": "273b0fcd",
   "metadata": {},
   "source": [
    "# 归一化\n",
    "另一种方法叫做Min-Max Scaling（或者叫做Normalization，也就是常说的0-1归一化）\n",
    "处理后的所有特征的值都会被压缩到0到1区间上，这样做还可以抑制离群值对结果的影响\n"
   ]
  },
  {
   "cell_type": "markdown",
   "id": "de0d2235",
   "metadata": {},
   "source": [
    "转换公式如下：\n",
    "$$\n",
    "X_{norm} = \\frac{X - X_{min}}{X_{max}-X_{min}}\n",
    "$$"
   ]
  },
  {
   "cell_type": "markdown",
   "id": "2b00df01",
   "metadata": {},
   "source": [
    "# 案例"
   ]
  },
  {
   "cell_type": "markdown",
   "id": "902ed247",
   "metadata": {},
   "source": [
    "## 1. 读取数据"
   ]
  },
  {
   "cell_type": "code",
   "execution_count": 31,
   "id": "d273209c",
   "metadata": {},
   "outputs": [
    {
     "name": "stdout",
     "output_type": "stream",
     "text": [
      "(3723, 2)\n"
     ]
    },
    {
     "data": {
      "text/html": [
       "<div>\n",
       "<style scoped>\n",
       "    .dataframe tbody tr th:only-of-type {\n",
       "        vertical-align: middle;\n",
       "    }\n",
       "\n",
       "    .dataframe tbody tr th {\n",
       "        vertical-align: top;\n",
       "    }\n",
       "\n",
       "    .dataframe thead th {\n",
       "        text-align: right;\n",
       "    }\n",
       "</style>\n",
       "<table border=\"1\" class=\"dataframe\">\n",
       "  <thead>\n",
       "    <tr style=\"text-align: right;\">\n",
       "      <th></th>\n",
       "      <th>accommodates</th>\n",
       "      <th>minimum_nights</th>\n",
       "    </tr>\n",
       "  </thead>\n",
       "  <tbody>\n",
       "    <tr>\n",
       "      <th>0</th>\n",
       "      <td>4</td>\n",
       "      <td>1</td>\n",
       "    </tr>\n",
       "    <tr>\n",
       "      <th>1</th>\n",
       "      <td>6</td>\n",
       "      <td>2</td>\n",
       "    </tr>\n",
       "    <tr>\n",
       "      <th>2</th>\n",
       "      <td>1</td>\n",
       "      <td>2</td>\n",
       "    </tr>\n",
       "    <tr>\n",
       "      <th>3</th>\n",
       "      <td>2</td>\n",
       "      <td>1</td>\n",
       "    </tr>\n",
       "    <tr>\n",
       "      <th>4</th>\n",
       "      <td>4</td>\n",
       "      <td>7</td>\n",
       "    </tr>\n",
       "  </tbody>\n",
       "</table>\n",
       "</div>"
      ],
      "text/plain": [
       "   accommodates  minimum_nights\n",
       "0             4               1\n",
       "1             6               2\n",
       "2             1               2\n",
       "3             2               1\n",
       "4             4               7"
      ]
     },
     "execution_count": 31,
     "metadata": {},
     "output_type": "execute_result"
    }
   ],
   "source": [
    "import pandas as pd\n",
    "\n",
    "# 只需要这些features\n",
    "features = ['accommodates','minimum_nights']\n",
    "# 读取数据\n",
    "df = pd.read_csv('listings.csv')[features]\n",
    "\n",
    "print(df.shape)\n",
    "df.head()"
   ]
  },
  {
   "cell_type": "markdown",
   "id": "c3a807ef",
   "metadata": {},
   "source": [
    "## 2. 标准化 & 归一化"
   ]
  },
  {
   "cell_type": "code",
   "execution_count": 34,
   "id": "3d089089",
   "metadata": {},
   "outputs": [],
   "source": [
    "from sklearn import preprocessing, impute\n",
    "\n",
    "# Standardization\n",
    "std_scale = preprocessing.StandardScaler().fit(df[['accommodates','minimum_nights']])\n",
    "df_std = std_scale.transform(df[['accommodates','minimum_nights']])\n",
    "\n",
    "# Normalization\n",
    "minmax_scale = preprocessing.MinMaxScaler().fit(df[['accommodates','minimum_nights']])\n",
    "df_minmax = minmax_scale.transform(df[['accommodates','minimum_nights']])"
   ]
  },
  {
   "cell_type": "markdown",
   "id": "3d1e7c83",
   "metadata": {},
   "source": [
    "## 3. 打印标准化后均值和标准差值"
   ]
  },
  {
   "cell_type": "code",
   "execution_count": 35,
   "id": "af34b83f",
   "metadata": {},
   "outputs": [
    {
     "name": "stdout",
     "output_type": "stream",
     "text": [
      "Mean after standardization:\n",
      "Accommodates=0.00 Minimum Nights=0.00\n",
      "\n",
      "Standard deviation after standardization:\n",
      "Accommodates=1.00 Minimum Nights=1.00\n"
     ]
    }
   ],
   "source": [
    "print('Mean after standardization:\\nAccommodates={:.2f} Minimum Nights={:.2f}'\n",
    "     .format(df_std[:,0].mean(), df_std[:,1].mean()))\n",
    "print('\\nStandard deviation after standardization:\\nAccommodates={:.2f} Minimum Nights={:.2f}'\n",
    "     .format(df_std[:,0].std(), df_std[:,1].std()))"
   ]
  },
  {
   "cell_type": "markdown",
   "id": "675d5615",
   "metadata": {},
   "source": [
    "## 4. 画对比图"
   ]
  },
  {
   "cell_type": "code",
   "execution_count": 30,
   "id": "63167852",
   "metadata": {},
   "outputs": [],
   "source": [
    "%matplotlib inline"
   ]
  },
  {
   "cell_type": "code",
   "execution_count": 43,
   "id": "652a8def",
   "metadata": {},
   "outputs": [
    {
     "data": {
      "image/png": "[encoded data removed]",
      "text/plain": [
       "<Figure size 576x432 with 1 Axes>"
      ]
     },
     "metadata": {
      "needs_background": "light"
     },
     "output_type": "display_data"
    }
   ],
   "source": [
    "from matplotlib import pyplot as plt\n",
    "\n",
    "def plot():\n",
    "    plt.figure(figsize=(8,6))\n",
    "    \n",
    "    plt.scatter(df['accommodates'],df['minimum_nights'],color='green',\n",
    "                label='Input scale',alpha=0.5)\n",
    "    \n",
    "    plt.scatter(df_std[:,0], df_std[:,1],color='red',\n",
    "                label='Standardized [$N (\\mu=0, \\; \\sigma=1)$]',alpha=0.3)\n",
    "    \n",
    "    plt.scatter(df_minmax[:,0], df_minmax[:,1], color='blue',\n",
    "                label='min-max scaled [min=0, max=1]',alpha=0.3)\n",
    "    \n",
    "    plt.title('Accommodates content of the living dataset')\n",
    "    plt.xlabel('Accommodates')\n",
    "    plt.ylabel('Minimum Nights')\n",
    "    plt.ylim(0,50)\n",
    "    plt.legend(loc='upper left')\n",
    "    plt.grid()\n",
    "    \n",
    "    plt.tight_layout()\n",
    "    \n",
    "plot()"
   ]
  },
  {
   "cell_type": "code",
   "execution_count": null,
   "id": "e2368296",
   "metadata": {},
   "outputs": [],
   "source": []
  }
 ],
 "metadata": {
  "kernelspec": {
   "display_name": "Python 3 (ipykernel)",
   "language": "python",
   "name": "python3"
  },
  "language_info": {
   "codemirror_mode": {
    "name": "ipython",
    "version": 3
   },
   "file_extension": ".py",
   "mimetype": "text/x-python",
   "name": "python",
   "nbconvert_exporter": "python",
   "pygments_lexer": "ipython3",
   "version": "3.9.7"
  }
 },
 "nbformat": 4,
 "nbformat_minor": 5
}
