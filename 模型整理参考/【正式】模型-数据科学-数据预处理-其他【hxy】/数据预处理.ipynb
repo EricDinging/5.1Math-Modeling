{
 "cells": [
  {
   "cell_type": "markdown",
   "id": "3598e061",
   "metadata": {},
   "source": [
    "### 数据预处理"
   ]
  },
  {
   "cell_type": "code",
   "execution_count": 213,
   "id": "8578cbf5",
   "metadata": {},
   "outputs": [],
   "source": [
    "import pandas as pd\n",
    "import numpy as np\n",
    "import matplotlib.pyplot as plt\n",
    "import seaborn as sns"
   ]
  },
  {
   "cell_type": "markdown",
   "id": "07a0569e",
   "metadata": {},
   "source": [
    "#### 1. 数据加载与粗略查看\n",
    "- 数据加载\n",
    "- 数据粗略查看"
   ]
  },
  {
   "cell_type": "markdown",
   "id": "7f602de2",
   "metadata": {},
   "source": [
    "##### 1.1 数据加载"
   ]
  },
  {
   "cell_type": "code",
   "execution_count": 214,
   "id": "e80faa8d",
   "metadata": {},
   "outputs": [],
   "source": [
    "# csv文件\n",
    "df = pd.read_csv('titanic.csv')\n",
    "# 但有时数据不是简单的csv，它按照文本保存，如“ID||texttexttexttext”这样的一条数据需要将中间的“||”当作分隔符，读取方式如下：\n",
    "# train = pd.read_csv('../input/training_text', sep=\"\\|\\|\", engine='python', header=None, skiprows=1, names=[\"ID\",\"Text\"])\n",
    "# 更多参数应查阅pandas文档"
   ]
  },
  {
   "cell_type": "markdown",
   "id": "e23d435f",
   "metadata": {},
   "source": [
    "##### 1.2 数据粗略查看"
   ]
  },
  {
   "cell_type": "code",
   "execution_count": 215,
   "id": "c7ef4388",
   "metadata": {},
   "outputs": [
    {
     "data": {
      "text/html": [
       "<div>\n",
       "<style scoped>\n",
       "    .dataframe tbody tr th:only-of-type {\n",
       "        vertical-align: middle;\n",
       "    }\n",
       "\n",
       "    .dataframe tbody tr th {\n",
       "        vertical-align: top;\n",
       "    }\n",
       "\n",
       "    .dataframe thead th {\n",
       "        text-align: right;\n",
       "    }\n",
       "</style>\n",
       "<table border=\"1\" class=\"dataframe\">\n",
       "  <thead>\n",
       "    <tr style=\"text-align: right;\">\n",
       "      <th></th>\n",
       "      <th>PassengerId</th>\n",
       "      <th>Survived</th>\n",
       "      <th>Pclass</th>\n",
       "      <th>Name</th>\n",
       "      <th>Sex</th>\n",
       "      <th>Age</th>\n",
       "      <th>SibSp</th>\n",
       "      <th>Parch</th>\n",
       "      <th>Ticket</th>\n",
       "      <th>Fare</th>\n",
       "      <th>Cabin</th>\n",
       "      <th>Embarked</th>\n",
       "    </tr>\n",
       "  </thead>\n",
       "  <tbody>\n",
       "    <tr>\n",
       "      <th>0</th>\n",
       "      <td>1</td>\n",
       "      <td>0</td>\n",
       "      <td>3</td>\n",
       "      <td>Braund, Mr. Owen Harris</td>\n",
       "      <td>male</td>\n",
       "      <td>22.0</td>\n",
       "      <td>1</td>\n",
       "      <td>0</td>\n",
       "      <td>A/5 21171</td>\n",
       "      <td>7.2500</td>\n",
       "      <td>NaN</td>\n",
       "      <td>S</td>\n",
       "    </tr>\n",
       "    <tr>\n",
       "      <th>1</th>\n",
       "      <td>2</td>\n",
       "      <td>1</td>\n",
       "      <td>1</td>\n",
       "      <td>Cumings, Mrs. John Bradley (Florence Briggs Th...</td>\n",
       "      <td>female</td>\n",
       "      <td>38.0</td>\n",
       "      <td>1</td>\n",
       "      <td>0</td>\n",
       "      <td>PC 17599</td>\n",
       "      <td>71.2833</td>\n",
       "      <td>C85</td>\n",
       "      <td>C</td>\n",
       "    </tr>\n",
       "    <tr>\n",
       "      <th>2</th>\n",
       "      <td>3</td>\n",
       "      <td>1</td>\n",
       "      <td>3</td>\n",
       "      <td>Heikkinen, Miss. Laina</td>\n",
       "      <td>female</td>\n",
       "      <td>26.0</td>\n",
       "      <td>0</td>\n",
       "      <td>0</td>\n",
       "      <td>STON/O2. 3101282</td>\n",
       "      <td>7.9250</td>\n",
       "      <td>NaN</td>\n",
       "      <td>S</td>\n",
       "    </tr>\n",
       "    <tr>\n",
       "      <th>3</th>\n",
       "      <td>4</td>\n",
       "      <td>1</td>\n",
       "      <td>1</td>\n",
       "      <td>Futrelle, Mrs. Jacques Heath (Lily May Peel)</td>\n",
       "      <td>female</td>\n",
       "      <td>35.0</td>\n",
       "      <td>1</td>\n",
       "      <td>0</td>\n",
       "      <td>113803</td>\n",
       "      <td>53.1000</td>\n",
       "      <td>C123</td>\n",
       "      <td>S</td>\n",
       "    </tr>\n",
       "    <tr>\n",
       "      <th>4</th>\n",
       "      <td>5</td>\n",
       "      <td>0</td>\n",
       "      <td>3</td>\n",
       "      <td>Allen, Mr. William Henry</td>\n",
       "      <td>male</td>\n",
       "      <td>35.0</td>\n",
       "      <td>0</td>\n",
       "      <td>0</td>\n",
       "      <td>373450</td>\n",
       "      <td>8.0500</td>\n",
       "      <td>NaN</td>\n",
       "      <td>S</td>\n",
       "    </tr>\n",
       "  </tbody>\n",
       "</table>\n",
       "</div>"
      ],
      "text/plain": [
       "   PassengerId  Survived  Pclass  \\\n",
       "0            1         0       3   \n",
       "1            2         1       1   \n",
       "2            3         1       3   \n",
       "3            4         1       1   \n",
       "4            5         0       3   \n",
       "\n",
       "                                                Name     Sex   Age  SibSp  \\\n",
       "0                            Braund, Mr. Owen Harris    male  22.0      1   \n",
       "1  Cumings, Mrs. John Bradley (Florence Briggs Th...  female  38.0      1   \n",
       "2                             Heikkinen, Miss. Laina  female  26.0      0   \n",
       "3       Futrelle, Mrs. Jacques Heath (Lily May Peel)  female  35.0      1   \n",
       "4                           Allen, Mr. William Henry    male  35.0      0   \n",
       "\n",
       "   Parch            Ticket     Fare Cabin Embarked  \n",
       "0      0         A/5 21171   7.2500   NaN        S  \n",
       "1      0          PC 17599  71.2833   C85        C  \n",
       "2      0  STON/O2. 3101282   7.9250   NaN        S  \n",
       "3      0            113803  53.1000  C123        S  \n",
       "4      0            373450   8.0500   NaN        S  "
      ]
     },
     "execution_count": 215,
     "metadata": {},
     "output_type": "execute_result"
    }
   ],
   "source": [
    "df.head(5)     #显示前5行数据"
   ]
  },
  {
   "cell_type": "code",
   "execution_count": 216,
   "id": "1455ff49",
   "metadata": {},
   "outputs": [
    {
     "data": {
      "text/html": [
       "<div>\n",
       "<style scoped>\n",
       "    .dataframe tbody tr th:only-of-type {\n",
       "        vertical-align: middle;\n",
       "    }\n",
       "\n",
       "    .dataframe tbody tr th {\n",
       "        vertical-align: top;\n",
       "    }\n",
       "\n",
       "    .dataframe thead th {\n",
       "        text-align: right;\n",
       "    }\n",
       "</style>\n",
       "<table border=\"1\" class=\"dataframe\">\n",
       "  <thead>\n",
       "    <tr style=\"text-align: right;\">\n",
       "      <th></th>\n",
       "      <th>PassengerId</th>\n",
       "      <th>Survived</th>\n",
       "      <th>Pclass</th>\n",
       "      <th>Name</th>\n",
       "      <th>Sex</th>\n",
       "      <th>Age</th>\n",
       "      <th>SibSp</th>\n",
       "      <th>Parch</th>\n",
       "      <th>Ticket</th>\n",
       "      <th>Fare</th>\n",
       "      <th>Cabin</th>\n",
       "      <th>Embarked</th>\n",
       "    </tr>\n",
       "  </thead>\n",
       "  <tbody>\n",
       "    <tr>\n",
       "      <th>886</th>\n",
       "      <td>887</td>\n",
       "      <td>0</td>\n",
       "      <td>2</td>\n",
       "      <td>Montvila, Rev. Juozas</td>\n",
       "      <td>male</td>\n",
       "      <td>27.0</td>\n",
       "      <td>0</td>\n",
       "      <td>0</td>\n",
       "      <td>211536</td>\n",
       "      <td>13.00</td>\n",
       "      <td>NaN</td>\n",
       "      <td>S</td>\n",
       "    </tr>\n",
       "    <tr>\n",
       "      <th>887</th>\n",
       "      <td>888</td>\n",
       "      <td>1</td>\n",
       "      <td>1</td>\n",
       "      <td>Graham, Miss. Margaret Edith</td>\n",
       "      <td>female</td>\n",
       "      <td>19.0</td>\n",
       "      <td>0</td>\n",
       "      <td>0</td>\n",
       "      <td>112053</td>\n",
       "      <td>30.00</td>\n",
       "      <td>B42</td>\n",
       "      <td>S</td>\n",
       "    </tr>\n",
       "    <tr>\n",
       "      <th>888</th>\n",
       "      <td>889</td>\n",
       "      <td>0</td>\n",
       "      <td>3</td>\n",
       "      <td>Johnston, Miss. Catherine Helen \"Carrie\"</td>\n",
       "      <td>female</td>\n",
       "      <td>NaN</td>\n",
       "      <td>1</td>\n",
       "      <td>2</td>\n",
       "      <td>W./C. 6607</td>\n",
       "      <td>23.45</td>\n",
       "      <td>NaN</td>\n",
       "      <td>S</td>\n",
       "    </tr>\n",
       "    <tr>\n",
       "      <th>889</th>\n",
       "      <td>890</td>\n",
       "      <td>1</td>\n",
       "      <td>1</td>\n",
       "      <td>Behr, Mr. Karl Howell</td>\n",
       "      <td>male</td>\n",
       "      <td>26.0</td>\n",
       "      <td>0</td>\n",
       "      <td>0</td>\n",
       "      <td>111369</td>\n",
       "      <td>30.00</td>\n",
       "      <td>C148</td>\n",
       "      <td>C</td>\n",
       "    </tr>\n",
       "    <tr>\n",
       "      <th>890</th>\n",
       "      <td>891</td>\n",
       "      <td>0</td>\n",
       "      <td>3</td>\n",
       "      <td>Dooley, Mr. Patrick</td>\n",
       "      <td>male</td>\n",
       "      <td>32.0</td>\n",
       "      <td>0</td>\n",
       "      <td>0</td>\n",
       "      <td>370376</td>\n",
       "      <td>7.75</td>\n",
       "      <td>NaN</td>\n",
       "      <td>Q</td>\n",
       "    </tr>\n",
       "  </tbody>\n",
       "</table>\n",
       "</div>"
      ],
      "text/plain": [
       "     PassengerId  Survived  Pclass                                      Name  \\\n",
       "886          887         0       2                     Montvila, Rev. Juozas   \n",
       "887          888         1       1              Graham, Miss. Margaret Edith   \n",
       "888          889         0       3  Johnston, Miss. Catherine Helen \"Carrie\"   \n",
       "889          890         1       1                     Behr, Mr. Karl Howell   \n",
       "890          891         0       3                       Dooley, Mr. Patrick   \n",
       "\n",
       "        Sex   Age  SibSp  Parch      Ticket   Fare Cabin Embarked  \n",
       "886    male  27.0      0      0      211536  13.00   NaN        S  \n",
       "887  female  19.0      0      0      112053  30.00   B42        S  \n",
       "888  female   NaN      1      2  W./C. 6607  23.45   NaN        S  \n",
       "889    male  26.0      0      0      111369  30.00  C148        C  \n",
       "890    male  32.0      0      0      370376   7.75   NaN        Q  "
      ]
     },
     "execution_count": 216,
     "metadata": {},
     "output_type": "execute_result"
    }
   ],
   "source": [
    "df.tail(5)     #显示后5行数据"
   ]
  },
  {
   "cell_type": "code",
   "execution_count": 217,
   "id": "e20bfab8",
   "metadata": {},
   "outputs": [
    {
     "data": {
      "text/plain": [
       "Index(['PassengerId', 'Survived', 'Pclass', 'Name', 'Sex', 'Age', 'SibSp',\n",
       "       'Parch', 'Ticket', 'Fare', 'Cabin', 'Embarked'],\n",
       "      dtype='object')"
      ]
     },
     "execution_count": 217,
     "metadata": {},
     "output_type": "execute_result"
    }
   ],
   "source": [
    "df.columns    #查看列名"
   ]
  },
  {
   "cell_type": "code",
   "execution_count": 218,
   "id": "80636aa3",
   "metadata": {},
   "outputs": [
    {
     "name": "stdout",
     "output_type": "stream",
     "text": [
      "<class 'pandas.core.frame.DataFrame'>\n",
      "RangeIndex: 891 entries, 0 to 890\n",
      "Data columns (total 12 columns):\n",
      " #   Column       Non-Null Count  Dtype  \n",
      "---  ------       --------------  -----  \n",
      " 0   PassengerId  891 non-null    int64  \n",
      " 1   Survived     891 non-null    int64  \n",
      " 2   Pclass       891 non-null    int64  \n",
      " 3   Name         891 non-null    object \n",
      " 4   Sex          891 non-null    object \n",
      " 5   Age          714 non-null    float64\n",
      " 6   SibSp        891 non-null    int64  \n",
      " 7   Parch        891 non-null    int64  \n",
      " 8   Ticket       891 non-null    object \n",
      " 9   Fare         891 non-null    float64\n",
      " 10  Cabin        204 non-null    object \n",
      " 11  Embarked     889 non-null    object \n",
      "dtypes: float64(2), int64(5), object(5)\n",
      "memory usage: 83.7+ KB\n"
     ]
    }
   ],
   "source": [
    "df.info()     #查看各字段的信息"
   ]
  },
  {
   "cell_type": "code",
   "execution_count": 219,
   "id": "9339eb4a",
   "metadata": {},
   "outputs": [
    {
     "data": {
      "text/plain": [
       "(891, 12)"
      ]
     },
     "execution_count": 219,
     "metadata": {},
     "output_type": "execute_result"
    }
   ],
   "source": [
    "df.shape      #查看数据集行列分布，几行几列"
   ]
  },
  {
   "cell_type": "code",
   "execution_count": 220,
   "id": "1fbf5760",
   "metadata": {},
   "outputs": [
    {
     "data": {
      "text/html": [
       "<div>\n",
       "<style scoped>\n",
       "    .dataframe tbody tr th:only-of-type {\n",
       "        vertical-align: middle;\n",
       "    }\n",
       "\n",
       "    .dataframe tbody tr th {\n",
       "        vertical-align: top;\n",
       "    }\n",
       "\n",
       "    .dataframe thead th {\n",
       "        text-align: right;\n",
       "    }\n",
       "</style>\n",
       "<table border=\"1\" class=\"dataframe\">\n",
       "  <thead>\n",
       "    <tr style=\"text-align: right;\">\n",
       "      <th></th>\n",
       "      <th>PassengerId</th>\n",
       "      <th>Survived</th>\n",
       "      <th>Pclass</th>\n",
       "      <th>Age</th>\n",
       "      <th>SibSp</th>\n",
       "      <th>Parch</th>\n",
       "      <th>Fare</th>\n",
       "    </tr>\n",
       "  </thead>\n",
       "  <tbody>\n",
       "    <tr>\n",
       "      <th>count</th>\n",
       "      <td>891.000000</td>\n",
       "      <td>891.000000</td>\n",
       "      <td>891.000000</td>\n",
       "      <td>714.000000</td>\n",
       "      <td>891.000000</td>\n",
       "      <td>891.000000</td>\n",
       "      <td>891.000000</td>\n",
       "    </tr>\n",
       "    <tr>\n",
       "      <th>mean</th>\n",
       "      <td>446.000000</td>\n",
       "      <td>0.383838</td>\n",
       "      <td>2.308642</td>\n",
       "      <td>29.699118</td>\n",
       "      <td>0.523008</td>\n",
       "      <td>0.381594</td>\n",
       "      <td>32.204208</td>\n",
       "    </tr>\n",
       "    <tr>\n",
       "      <th>std</th>\n",
       "      <td>257.353842</td>\n",
       "      <td>0.486592</td>\n",
       "      <td>0.836071</td>\n",
       "      <td>14.526497</td>\n",
       "      <td>1.102743</td>\n",
       "      <td>0.806057</td>\n",
       "      <td>49.693429</td>\n",
       "    </tr>\n",
       "    <tr>\n",
       "      <th>min</th>\n",
       "      <td>1.000000</td>\n",
       "      <td>0.000000</td>\n",
       "      <td>1.000000</td>\n",
       "      <td>0.420000</td>\n",
       "      <td>0.000000</td>\n",
       "      <td>0.000000</td>\n",
       "      <td>0.000000</td>\n",
       "    </tr>\n",
       "    <tr>\n",
       "      <th>25%</th>\n",
       "      <td>223.500000</td>\n",
       "      <td>0.000000</td>\n",
       "      <td>2.000000</td>\n",
       "      <td>20.125000</td>\n",
       "      <td>0.000000</td>\n",
       "      <td>0.000000</td>\n",
       "      <td>7.910400</td>\n",
       "    </tr>\n",
       "    <tr>\n",
       "      <th>50%</th>\n",
       "      <td>446.000000</td>\n",
       "      <td>0.000000</td>\n",
       "      <td>3.000000</td>\n",
       "      <td>28.000000</td>\n",
       "      <td>0.000000</td>\n",
       "      <td>0.000000</td>\n",
       "      <td>14.454200</td>\n",
       "    </tr>\n",
       "    <tr>\n",
       "      <th>75%</th>\n",
       "      <td>668.500000</td>\n",
       "      <td>1.000000</td>\n",
       "      <td>3.000000</td>\n",
       "      <td>38.000000</td>\n",
       "      <td>1.000000</td>\n",
       "      <td>0.000000</td>\n",
       "      <td>31.000000</td>\n",
       "    </tr>\n",
       "    <tr>\n",
       "      <th>max</th>\n",
       "      <td>891.000000</td>\n",
       "      <td>1.000000</td>\n",
       "      <td>3.000000</td>\n",
       "      <td>80.000000</td>\n",
       "      <td>8.000000</td>\n",
       "      <td>6.000000</td>\n",
       "      <td>512.329200</td>\n",
       "    </tr>\n",
       "  </tbody>\n",
       "</table>\n",
       "</div>"
      ],
      "text/plain": [
       "       PassengerId    Survived      Pclass         Age       SibSp  \\\n",
       "count   891.000000  891.000000  891.000000  714.000000  891.000000   \n",
       "mean    446.000000    0.383838    2.308642   29.699118    0.523008   \n",
       "std     257.353842    0.486592    0.836071   14.526497    1.102743   \n",
       "min       1.000000    0.000000    1.000000    0.420000    0.000000   \n",
       "25%     223.500000    0.000000    2.000000   20.125000    0.000000   \n",
       "50%     446.000000    0.000000    3.000000   28.000000    0.000000   \n",
       "75%     668.500000    1.000000    3.000000   38.000000    1.000000   \n",
       "max     891.000000    1.000000    3.000000   80.000000    8.000000   \n",
       "\n",
       "            Parch        Fare  \n",
       "count  891.000000  891.000000  \n",
       "mean     0.381594   32.204208  \n",
       "std      0.806057   49.693429  \n",
       "min      0.000000    0.000000  \n",
       "25%      0.000000    7.910400  \n",
       "50%      0.000000   14.454200  \n",
       "75%      0.000000   31.000000  \n",
       "max      6.000000  512.329200  "
      ]
     },
     "execution_count": 220,
     "metadata": {},
     "output_type": "execute_result"
    }
   ],
   "source": [
    "df.describe() #查看数据的大体情况"
   ]
  },
  {
   "cell_type": "markdown",
   "id": "2d73685d",
   "metadata": {},
   "source": [
    "#### 2. 处理丢失的数据\n",
    "- 处理丢失值\n",
    "    - 找到丢失位置\n",
    "    - 处理\n",
    "        - 填补\n",
    "        - 忽略\n",
    "- 处理重复值\n",
    "- 处理偏离值\n",
    "    - 查找偏离值\n",
    "    - 处理\n",
    "        - 删除\n",
    "        - 标准化/归一化"
   ]
  },
  {
   "cell_type": "markdown",
   "id": "3ca954a9",
   "metadata": {},
   "source": [
    "##### 2.1 处理丢失值"
   ]
  },
  {
   "cell_type": "markdown",
   "id": "6ac2b973",
   "metadata": {},
   "source": [
    "###### 2.1.1 找到丢失位置"
   ]
  },
  {
   "cell_type": "code",
   "execution_count": 221,
   "id": "d9db85ef",
   "metadata": {},
   "outputs": [
    {
     "name": "stdout",
     "output_type": "stream",
     "text": [
      "Cabin          687\n",
      "Age            177\n",
      "Embarked         2\n",
      "PassengerId      0\n",
      "Survived         0\n",
      "Pclass           0\n",
      "Name             0\n",
      "Sex              0\n",
      "SibSp            0\n",
      "Parch            0\n",
      "Ticket           0\n",
      "Fare             0\n",
      "dtype: int64\n"
     ]
    }
   ],
   "source": [
    "# 输出每个列丢失值也即值为NaN的数据和，并从多到少排序\n",
    "total = df.isnull().sum().sort_values(ascending=False)\n",
    "print(total)"
   ]
  },
  {
   "cell_type": "code",
   "execution_count": 222,
   "id": "56099e64",
   "metadata": {},
   "outputs": [
    {
     "name": "stdout",
     "output_type": "stream",
     "text": [
      "             Total   Percent\n",
      "Cabin          687  0.771044\n",
      "Age            177  0.198653\n",
      "Embarked         2  0.002245\n",
      "PassengerId      0  0.000000\n",
      "Survived         0  0.000000\n",
      "Pclass           0  0.000000\n",
      "Name             0  0.000000\n",
      "Sex              0  0.000000\n",
      "SibSp            0  0.000000\n",
      "Parch            0  0.000000\n",
      "Ticket           0  0.000000\n",
      "Fare             0  0.000000\n"
     ]
    }
   ],
   "source": [
    "# 也可以输出百分比\n",
    "percent =(df.isnull().sum()/df.isnull().count()).sort_values(ascending=False)\n",
    "missing_data = pd.concat([total, percent], axis=1, keys=['Total', 'Percent'])\n",
    "print(missing_data)"
   ]
  },
  {
   "cell_type": "markdown",
   "id": "43903d11",
   "metadata": {},
   "source": [
    "###### 2.1.2 处理-填补"
   ]
  },
  {
   "cell_type": "code",
   "execution_count": 223,
   "id": "b7143027",
   "metadata": {},
   "outputs": [],
   "source": [
    "# 使用中位数填补\n",
    "df['Age'] = df['Age'].fillna(df['Age'].median())"
   ]
  },
  {
   "cell_type": "code",
   "execution_count": 224,
   "id": "fe5f6dcb",
   "metadata": {},
   "outputs": [],
   "source": [
    "# 使用平均数填补\n",
    "df['Age'] = df['Age'].fillna(df['Age'].mean())"
   ]
  },
  {
   "cell_type": "markdown",
   "id": "aa3b8fbd",
   "metadata": {},
   "source": [
    "###### 2.1.3 处理-忽略"
   ]
  },
  {
   "cell_type": "code",
   "execution_count": 225,
   "id": "92e1973a",
   "metadata": {},
   "outputs": [],
   "source": [
    "# 去掉一列: 当缺失行数比较多或该特征不重要的时候\n",
    "df = df.drop(['Cabin'], axis = 1)"
   ]
  },
  {
   "cell_type": "code",
   "execution_count": 226,
   "id": "73a39d90",
   "metadata": {},
   "outputs": [],
   "source": [
    "#去掉这个特征为空的行：当缺失行数比较少的时候\n",
    "#当然后面可以加上inplace=True表示直接就在内存中替换了不用再赋值个train_new，但是本人多次删除掉几个行，发现有问题时又需要重新建立已经分析好的train，很浪费时间，个人认为还是重新开辟一个比较好\n",
    "df_new = df.drop(df[df['Embarked'].isnull()].index)"
   ]
  },
  {
   "cell_type": "markdown",
   "id": "e8658680",
   "metadata": {},
   "source": [
    "##### 2.2 处理重复值"
   ]
  },
  {
   "cell_type": "code",
   "execution_count": 227,
   "id": "d429fde4",
   "metadata": {},
   "outputs": [],
   "source": [
    "df_new = df_new.drop_duplicates()"
   ]
  },
  {
   "cell_type": "markdown",
   "id": "6fb65087",
   "metadata": {},
   "source": [
    "##### 2.3 处理偏离值"
   ]
  },
  {
   "cell_type": "markdown",
   "id": "c926ee25",
   "metadata": {},
   "source": [
    "###### 2.3.1 寻找偏离值"
   ]
  },
  {
   "cell_type": "code",
   "execution_count": 228,
   "id": "892bbb66",
   "metadata": {},
   "outputs": [
    {
     "name": "stderr",
     "output_type": "stream",
     "text": [
      "*c* argument looks like a single numeric RGB or RGBA sequence, which should be avoided as value-mapping will have precedence in case its length matches with *x* & *y*.  Please use the *color* keyword-argument or provide a 2D array with a single row if you intend to specify the same RGB or RGBA value for all points.\n"
     ]
    },
    {
     "data": {
      "image/png": "[encoded data removed]",
      "text/plain": [
       "<Figure size 432x288 with 1 Axes>"
      ]
     },
     "metadata": {},
     "output_type": "display_data"
    }
   ],
   "source": [
    "#bivariate analysis saleprice/grlivarea\n",
    "var = 'Age'\n",
    "data = pd.concat([df['Fare'], df[var]], axis=1)\n",
    "data.plot.scatter(x=var, y='Fare', xlim=(0,90), ylim=(0,600));"
   ]
  },
  {
   "cell_type": "markdown",
   "id": "6c7943e7",
   "metadata": {},
   "source": [
    "##### 2.3.2 处理-删除"
   ]
  },
  {
   "cell_type": "code",
   "execution_count": 229,
   "id": "7beaa141",
   "metadata": {},
   "outputs": [
    {
     "data": {
      "text/html": [
       "<div>\n",
       "<style scoped>\n",
       "    .dataframe tbody tr th:only-of-type {\n",
       "        vertical-align: middle;\n",
       "    }\n",
       "\n",
       "    .dataframe tbody tr th {\n",
       "        vertical-align: top;\n",
       "    }\n",
       "\n",
       "    .dataframe thead th {\n",
       "        text-align: right;\n",
       "    }\n",
       "</style>\n",
       "<table border=\"1\" class=\"dataframe\">\n",
       "  <thead>\n",
       "    <tr style=\"text-align: right;\">\n",
       "      <th></th>\n",
       "      <th>PassengerId</th>\n",
       "      <th>Survived</th>\n",
       "      <th>Pclass</th>\n",
       "      <th>Name</th>\n",
       "      <th>Sex</th>\n",
       "      <th>Age</th>\n",
       "      <th>SibSp</th>\n",
       "      <th>Parch</th>\n",
       "      <th>Ticket</th>\n",
       "      <th>Fare</th>\n",
       "      <th>Embarked</th>\n",
       "    </tr>\n",
       "  </thead>\n",
       "  <tbody>\n",
       "    <tr>\n",
       "      <th>258</th>\n",
       "      <td>259</td>\n",
       "      <td>1</td>\n",
       "      <td>1</td>\n",
       "      <td>Ward, Miss. Anna</td>\n",
       "      <td>female</td>\n",
       "      <td>35.0</td>\n",
       "      <td>0</td>\n",
       "      <td>0</td>\n",
       "      <td>PC 17755</td>\n",
       "      <td>512.3292</td>\n",
       "      <td>C</td>\n",
       "    </tr>\n",
       "    <tr>\n",
       "      <th>737</th>\n",
       "      <td>738</td>\n",
       "      <td>1</td>\n",
       "      <td>1</td>\n",
       "      <td>Lesurer, Mr. Gustave J</td>\n",
       "      <td>male</td>\n",
       "      <td>35.0</td>\n",
       "      <td>0</td>\n",
       "      <td>0</td>\n",
       "      <td>PC 17755</td>\n",
       "      <td>512.3292</td>\n",
       "      <td>C</td>\n",
       "    </tr>\n",
       "  </tbody>\n",
       "</table>\n",
       "</div>"
      ],
      "text/plain": [
       "     PassengerId  Survived  Pclass                    Name     Sex   Age  \\\n",
       "258          259         1       1        Ward, Miss. Anna  female  35.0   \n",
       "737          738         1       1  Lesurer, Mr. Gustave J    male  35.0   \n",
       "\n",
       "     SibSp  Parch    Ticket      Fare Embarked  \n",
       "258      0      0  PC 17755  512.3292        C  \n",
       "737      0      0  PC 17755  512.3292        C  "
      ]
     },
     "execution_count": 229,
     "metadata": {},
     "output_type": "execute_result"
    }
   ],
   "source": [
    "df.sort_values(by = 'Fare', ascending = False)[:2]"
   ]
  },
  {
   "cell_type": "code",
   "execution_count": 230,
   "id": "b335193e",
   "metadata": {},
   "outputs": [],
   "source": [
    "df = df.drop(df[df['PassengerId'] == 259].index)\n",
    "df = df.drop(df[df['PassengerId'] == 738].index)"
   ]
  },
  {
   "cell_type": "markdown",
   "id": "9491c0d3",
   "metadata": {},
   "source": [
    "###### 2.3.3 处理-保留\n",
    "当然并不是所有的偏离值都需要删除，具体需要在分析之后选择处理方式。这里将偏离值保留下来并不是原封不动保留，而需要做标准化或归一化处理，具体的处理方式可查看最后一节数据转换、标准化、归一化"
   ]
  },
  {
   "cell_type": "markdown",
   "id": "7eb29672",
   "metadata": {},
   "source": [
    "#### 3. 数据统计"
   ]
  },
  {
   "cell_type": "code",
   "execution_count": 231,
   "id": "5ebfde0d",
   "metadata": {},
   "outputs": [
    {
     "data": {
      "text/plain": [
       "3    491\n",
       "1    214\n",
       "2    184\n",
       "Name: Pclass, dtype: int64"
      ]
     },
     "execution_count": 231,
     "metadata": {},
     "output_type": "execute_result"
    }
   ],
   "source": [
    "# 统计某一列中各个元素值出现的次数\n",
    "df['Pclass'].value_counts()  "
   ]
  },
  {
   "cell_type": "code",
   "execution_count": 232,
   "id": "99bebd5d",
   "metadata": {},
   "outputs": [
    {
     "data": {
      "text/plain": [
       "-0.6369977585999191"
      ]
     },
     "execution_count": 232,
     "metadata": {},
     "output_type": "execute_result"
    }
   ],
   "source": [
    "# 数据的偏斜度\n",
    "df['Pclass'].skew()"
   ]
  },
  {
   "cell_type": "code",
   "execution_count": 233,
   "id": "df9eb8a8",
   "metadata": {},
   "outputs": [
    {
     "data": {
      "text/plain": [
       "-1.2694374832322646"
      ]
     },
     "execution_count": 233,
     "metadata": {},
     "output_type": "execute_result"
    }
   ],
   "source": [
    "# 数据的峰度\n",
    "df['Pclass'].kurt()"
   ]
  },
  {
   "cell_type": "code",
   "execution_count": 234,
   "id": "e9707b7e",
   "metadata": {},
   "outputs": [
    {
     "data": {
      "text/plain": [
       "0.09821633399014416"
      ]
     },
     "execution_count": 234,
     "metadata": {},
     "output_type": "execute_result"
    }
   ],
   "source": [
    "# 计算两个列的相关度\n",
    "df['Age'].corr(df['Fare']) "
   ]
  },
  {
   "cell_type": "code",
   "execution_count": 235,
   "id": "b2099909",
   "metadata": {},
   "outputs": [
    {
     "name": "stderr",
     "output_type": "stream",
     "text": [
      "*c* argument looks like a single numeric RGB or RGBA sequence, which should be avoided as value-mapping will have precedence in case its length matches with *x* & *y*.  Please use the *color* keyword-argument or provide a 2D array with a single row if you intend to specify the same RGB or RGBA value for all points.\n"
     ]
    },
    {
     "data": {
      "image/png": "[encoded data removed]",
      "text/plain": [
       "<Figure size 432x288 with 1 Axes>"
      ]
     },
     "metadata": {},
     "output_type": "display_data"
    }
   ],
   "source": [
    "# 观察两个列的值的二维图\n",
    "x = 'Age'; y = 'Fare'\n",
    "data = pd.concat([df[y], df[x]], axis=1)\n",
    "data.plot.scatter(x=x, y=y, ylim=(0,600));"
   ]
  },
  {
   "cell_type": "code",
   "execution_count": 236,
   "id": "441ec46e",
   "metadata": {},
   "outputs": [
    {
     "data": {
      "text/plain": [
       "<AxesSubplot:>"
      ]
     },
     "execution_count": 236,
     "metadata": {},
     "output_type": "execute_result"
    },
    {
     "data": {
      "image/png": "[encoded data removed]",
      "text/plain": [
       "<Figure size 864x648 with 2 Axes>"
      ]
     },
     "metadata": {},
     "output_type": "display_data"
    }
   ],
   "source": [
    "# 计算所有特征值每两个之间的相关系数，并做热力图\n",
    "corrmat = df.corr() # 得到相关系数\n",
    "f,ax = plt.subplots(figsize = (12,9))\n",
    "sns.heatmap(corrmat, vmax = .8, square = True, annot=True, cmap = 'Purples_r') # 热力图"
   ]
  },
  {
   "cell_type": "code",
   "execution_count": 237,
   "id": "3e009abb",
   "metadata": {},
   "outputs": [
    {
     "data": {
      "text/plain": [
       "<AxesSubplot:>"
      ]
     },
     "execution_count": 237,
     "metadata": {},
     "output_type": "execute_result"
    },
    {
     "data": {
      "image/png": "[encoded data removed]",
      "text/plain": [
       "<Figure size 432x288 with 2 Axes>"
      ]
     },
     "metadata": {},
     "output_type": "display_data"
    }
   ],
   "source": [
    "#取出相关性最大的前十个，做出热点图表示\n",
    "k = 7 #number of variables for heatmap\n",
    "cols = corrmat.nlargest(k, 'Fare')['Fare'].index\n",
    "cm = np.corrcoef(df[cols].values.T)\n",
    "sns.set(font_scale=1.25)\n",
    "sns.heatmap(cm, cbar=True, annot=True, square=True, fmt='.2f', annot_kws={'size': 10}, yticklabels=cols.values,    xticklabels=cols.values)"
   ]
  },
  {
   "cell_type": "markdown",
   "id": "be6482e5",
   "metadata": {},
   "source": [
    "#### 4. 特征值的合并、连接\n",
    "- 分组\n",
    "- 合并\n",
    "- 连接"
   ]
  },
  {
   "cell_type": "markdown",
   "id": "5818d022",
   "metadata": {},
   "source": [
    "##### 4.1 分组"
   ]
  },
  {
   "cell_type": "code",
   "execution_count": 238,
   "id": "6784f2da",
   "metadata": {},
   "outputs": [
    {
     "name": "stdout",
     "output_type": "stream",
     "text": [
      "   Pclass       Fare\n",
      "0       1  80.153057\n",
      "1       2  20.662183\n",
      "2       3  13.675550\n"
     ]
    }
   ],
   "source": [
    "# 按照船舱等级分组---------------------一个特征值\n",
    "df.groupby('Pclass',as_index=False)\n",
    "# 按照船舱等级与船费分组---------------两个特征值\n",
    "df.groupby(['Pclass','Fare'],as_index=False)\n",
    "# 船舱等级、船费、年龄-----------------三个特征值\n",
    "df.groupby(['Pclass','Fare','Age'],as_index=False)\n",
    "# 跟MSSubClass进行分组，并求分组后的平均值\n",
    "test = df[['Pclass', 'Fare']].groupby(['Pclass'], as_index=False).mean()\n",
    "# 选取特定的属性的某个值然后进行分类\n",
    "df[df['Age']==22].groupby(['Pclass'],as_index=False)\n",
    "print(test)"
   ]
  },
  {
   "cell_type": "markdown",
   "id": "95b725bb",
   "metadata": {},
   "source": [
    "##### 4.2 合并"
   ]
  },
  {
   "cell_type": "code",
   "execution_count": 239,
   "id": "bb99cbe6",
   "metadata": {},
   "outputs": [
    {
     "name": "stdout",
     "output_type": "stream",
     "text": [
      "   Pclass  age_count\n",
      "0       1        214\n",
      "1       2        184\n",
      "2       3        491\n"
     ]
    }
   ],
   "source": [
    "# 获得分组后，统计分组中'end_loc'的数量返回为一列由‘userid’和‘user_count’组成的新的DataFrame\n",
    "age_count = df.groupby('Pclass',as_index=False)['Age'].agg({'age_count':'count'})\n",
    "# 将获得的新的DataFrame合并到train，更多的merge参数请查阅文档\n",
    "new_df = pd.merge(df, age_count, on=['Pclass'], how='left')\n",
    "print(age_count)"
   ]
  },
  {
   "cell_type": "markdown",
   "id": "35452592",
   "metadata": {},
   "source": [
    "##### 4.3 连接"
   ]
  },
  {
   "cell_type": "code",
   "execution_count": 240,
   "id": "bbf3613b",
   "metadata": {},
   "outputs": [
    {
     "data": {
      "text/html": [
       "<div>\n",
       "<style scoped>\n",
       "    .dataframe tbody tr th:only-of-type {\n",
       "        vertical-align: middle;\n",
       "    }\n",
       "\n",
       "    .dataframe tbody tr th {\n",
       "        vertical-align: top;\n",
       "    }\n",
       "\n",
       "    .dataframe thead th {\n",
       "        text-align: right;\n",
       "    }\n",
       "</style>\n",
       "<table border=\"1\" class=\"dataframe\">\n",
       "  <thead>\n",
       "    <tr style=\"text-align: right;\">\n",
       "      <th></th>\n",
       "      <th>Pclass</th>\n",
       "      <th>Name</th>\n",
       "      <th>Sex</th>\n",
       "      <th>Age</th>\n",
       "    </tr>\n",
       "  </thead>\n",
       "  <tbody>\n",
       "    <tr>\n",
       "      <th>0</th>\n",
       "      <td>3</td>\n",
       "      <td>Braund, Mr. Owen Harris</td>\n",
       "      <td>male</td>\n",
       "      <td>22.0</td>\n",
       "    </tr>\n",
       "    <tr>\n",
       "      <th>1</th>\n",
       "      <td>1</td>\n",
       "      <td>Cumings, Mrs. John Bradley (Florence Briggs Th...</td>\n",
       "      <td>female</td>\n",
       "      <td>38.0</td>\n",
       "    </tr>\n",
       "    <tr>\n",
       "      <th>2</th>\n",
       "      <td>3</td>\n",
       "      <td>Heikkinen, Miss. Laina</td>\n",
       "      <td>female</td>\n",
       "      <td>26.0</td>\n",
       "    </tr>\n",
       "    <tr>\n",
       "      <th>3</th>\n",
       "      <td>1</td>\n",
       "      <td>Futrelle, Mrs. Jacques Heath (Lily May Peel)</td>\n",
       "      <td>female</td>\n",
       "      <td>35.0</td>\n",
       "    </tr>\n",
       "    <tr>\n",
       "      <th>4</th>\n",
       "      <td>3</td>\n",
       "      <td>Allen, Mr. William Henry</td>\n",
       "      <td>male</td>\n",
       "      <td>35.0</td>\n",
       "    </tr>\n",
       "  </tbody>\n",
       "</table>\n",
       "</div>"
      ],
      "text/plain": [
       "   Pclass                                               Name     Sex   Age\n",
       "0       3                            Braund, Mr. Owen Harris    male  22.0\n",
       "1       1  Cumings, Mrs. John Bradley (Florence Briggs Th...  female  38.0\n",
       "2       3                             Heikkinen, Miss. Laina  female  26.0\n",
       "3       1       Futrelle, Mrs. Jacques Heath (Lily May Peel)  female  35.0\n",
       "4       3                           Allen, Mr. William Henry    male  35.0"
      ]
     },
     "execution_count": 240,
     "metadata": {},
     "output_type": "execute_result"
    }
   ],
   "source": [
    "# 将训练数据与测试数据连接起来，以便一起进行数据清洗。\n",
    "# 这里需要注意的是，如果没有后面的ignore_index=True，那么index的值在连接后的这个新数据中是不连续的，如果要按照index删除一行数据，可能会发现多删一条。\n",
    "train = df[:600]\n",
    "test = df[600:]\n",
    "merge_data = pd.concat([train, test], ignore_index=True)  \n",
    "\n",
    "# 另一种合并方式，按列名字进行合并。\n",
    "all_data = pd.concat((df.loc[:,'Pclass':'Age'], test.loc[:,'Pclass':'Age']))  \n",
    "all_data.head()"
   ]
  },
  {
   "cell_type": "markdown",
   "id": "960d5b5b",
   "metadata": {},
   "source": [
    "#### 5. 数据转换、标准化、归一化\n",
    "- 数据转换\n",
    "- 标准化\n",
    "- 归一化"
   ]
  },
  {
   "cell_type": "markdown",
   "id": "42674a5e",
   "metadata": {},
   "source": [
    "##### 5.1 数据转换"
   ]
  },
  {
   "cell_type": "code",
   "execution_count": 241,
   "id": "1a3a819b",
   "metadata": {},
   "outputs": [],
   "source": [
    "# 浮点型数值转换为整型\n",
    "df['Age'] = df['Age'].astype(int)"
   ]
  },
  {
   "cell_type": "code",
   "execution_count": 242,
   "id": "52189ac3",
   "metadata": {},
   "outputs": [],
   "source": [
    "# 字符串的替换--映射\n",
    "df['Sex'] = df['Sex'].map({'female':0,'male':1}).astype(int)\n",
    "# 一般建议将map拿出来\n",
    "# sex_mapping = {\"female\": 0, \"male\": 1}\n",
    "# df['Sex'] = df['Sex'].map(sex_mapping)"
   ]
  },
  {
   "cell_type": "code",
   "execution_count": 243,
   "id": "45b59782",
   "metadata": {},
   "outputs": [],
   "source": [
    "# one-hot独热编码\n",
    "df = pd.get_dummies(df) "
   ]
  },
  {
   "cell_type": "code",
   "execution_count": 244,
   "id": "6a37b16b",
   "metadata": {},
   "outputs": [],
   "source": [
    "# 将连续型特征值分块，每一块用数字标识\n",
    "df.loc[ df['Fare'] <= 7.91, 'Fare'] = 0\n",
    "df.loc[(df['Fare'] > 7.91) & (df['Fare'] <= 14.454), 'Fare'] = 1\n",
    "df.loc[(df['Fare'] > 14.454) & (df['Fare'] <= 31), 'Fare']   = 2\n",
    "df.loc[ df['Fare'] > 31, 'Fare'] = 3\n",
    "df['Fare'] = df['Fare'].astype(int)"
   ]
  },
  {
   "cell_type": "code",
   "execution_count": 245,
   "id": "7b300df1",
   "metadata": {},
   "outputs": [],
   "source": [
    "# df['Age'] = np.log(df['Age'])\n",
    "# 而有时这样的log不可行，就需要使用log（x+1）来 处理\n",
    "# 原因：https://blog.csdn.net/liyuanbhu/article/details/8544644\n",
    "df['Age'] = np.log1p(df['Age'])"
   ]
  },
  {
   "cell_type": "code",
   "execution_count": 249,
   "id": "102d405b",
   "metadata": {},
   "outputs": [],
   "source": [
    "# 将偏斜度大于0.75的数值列log转换，使之尽量符合正态分布\n",
    "# numeric_feats = ['Age', 'Fare']\n",
    "# skewed_feats = df[numeric_feats].apply(lambda x: skew(x.dropna())) #compute skewness\n",
    "# skewed_feats = skewed_feats[skewed_feats > 0.75]\n",
    "# skewed_feats = skewed_feats.index\n",
    "# df[skewed_feats] = np.log1p(df[skewed_feats])"
   ]
  },
  {
   "cell_type": "markdown",
   "id": "dd3545fb",
   "metadata": {},
   "source": [
    "##### 5.2 标准化\n",
    "见**数据预处理-标准化与归一化**"
   ]
  },
  {
   "cell_type": "markdown",
   "id": "90dd1fbf",
   "metadata": {},
   "source": [
    "##### 5.3 归一化\n",
    "见**数据预处理-标准化与归一化**"
   ]
  },
  {
   "cell_type": "markdown",
   "id": "8e8205a4",
   "metadata": {},
   "source": [
    "#### 6. 参考资料\n",
    "1. [数据预处理](https://blog.csdn.net/u011094454/article/details/77618604)\n",
    "2. [唐宇迪数据分析](https://study.163.com/course/courseMain.htm?courseId=1003590004&share=1&shareId=1451772796)"
   ]
  },
  {
   "cell_type": "code",
   "execution_count": null,
   "id": "e5271ce2",
   "metadata": {},
   "outputs": [],
   "source": []
  }
 ],
 "metadata": {
  "kernelspec": {
   "display_name": "Python 3 (ipykernel)",
   "language": "python",
   "name": "python3"
  },
  "language_info": {
   "codemirror_mode": {
    "name": "ipython",
    "version": 3
   },
   "file_extension": ".py",
   "mimetype": "text/x-python",
   "name": "python",
   "nbconvert_exporter": "python",
   "pygments_lexer": "ipython3",
   "version": "3.9.7"
  }
 },
 "nbformat": 4,
 "nbformat_minor": 5
}
